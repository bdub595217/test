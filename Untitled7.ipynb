{
 "cells": [
  {
   "cell_type": "code",
   "execution_count": 1,
   "metadata": {},
   "outputs": [],
   "source": [
    "import pandas as pd\n",
    "import numpy as np\n",
    "from urllib.request import urlopen, Request\n",
    "from bs4 import BeautifulSoup\n",
    "import re"
   ]
  },
  {
   "cell_type": "code",
   "execution_count": 102,
   "metadata": {},
   "outputs": [],
   "source": [
    "#import webpage\n",
    "import requests\n",
    "url = 'http://afceamontgomery.org/Sponsorships'\n",
    "page = requests.get(url)\n",
    "#convert html\n",
    "html = page.text\n",
    "soup = BeautifulSoup(page.content, 'html.parser')"
   ]
  },
  {
   "cell_type": "code",
   "execution_count": 103,
   "metadata": {},
   "outputs": [],
   "source": [
    "title_items = soup.find_all(class_=\"eventDetailsLink\")\n",
    "titles = []\n",
    "for i in range(0, len(title_items)):\n",
    "    titles.append(title_items[i].get_text())"
   ]
  },
  {
   "cell_type": "code",
   "execution_count": 104,
   "metadata": {},
   "outputs": [],
   "source": [
    "desc = []\n",
    "for i in range(0, len(desc_items)):\n",
    "    desc.append(desc_items[i].get_text())"
   ]
  },
  {
   "cell_type": "code",
   "execution_count": 135,
   "metadata": {},
   "outputs": [
    {
     "data": {
      "text/plain": [
       "['2018 MITS Golf #18 Tee Box Sponsorship',\n",
       " '2018 MITS Golf Bronze Sponsorship',\n",
       " '2018 MITS Golf Silver Sponsorship',\n",
       " '2018 MITS Golf Gold Sponsorship',\n",
       " '2018 MITS Golf Platinum Sponsorship',\n",
       " '2018 MITS Golf Breakfast/Lunch Sponsorship',\n",
       " '2018 MITS Golf Awards Dinner Sponsorship',\n",
       " '2018 MITS Golf #4 Par 3 Sponsorship',\n",
       " '2018 MITS Golf #7 Par 3 Sponsorship',\n",
       " '2018 MITS Golf #11 Par 3 Sponsorship',\n",
       " '2018 MITS Golf #17 Par 3 Sponsorship',\n",
       " '2018 MITS Golf #10 Tee Box Sponsorship',\n",
       " '2018 MITS Golf #16 Tee Box Sponsorship',\n",
       " '2018 MITS Golf #1 Tee Box Sponsorship',\n",
       " '2018 MITS Golf Drink Cart Sponsorship',\n",
       " '2018 MITS Golf Snack Cart Sponsorship',\n",
       " '2018 MITS Golf Driving Range Sponsorship',\n",
       " '2018 MITS Golf Pin Flags Sponsorship',\n",
       " '2018 MITS Golf Carts Sponsorship',\n",
       " '2018 MITS Golf Masters Level Sponsorship',\n",
       " '2018 Montgomery IT Summit MITS Badge Lanyards Sponsorship',\n",
       " 'MITS 2018 Conference Break Sponsorship',\n",
       " 'MITS 2018 Tuesday Luncheon Sponsorship',\n",
       " 'MITS 2018 Tuesday Evening Social Sponsorship',\n",
       " 'MITS 2018 Wednesday Evening Social Sponsorship']"
      ]
     },
     "execution_count": 135,
     "metadata": {},
     "output_type": "execute_result"
    }
   ],
   "source": [
    "titles"
   ]
  },
  {
   "cell_type": "code",
   "execution_count": 171,
   "metadata": {},
   "outputs": [],
   "source": [
    "a = (1,3,5,7,9,11,13,15,17,18,21,23,25)"
   ]
  },
  {
   "cell_type": "code",
   "execution_count": null,
   "metadata": {},
   "outputs": [],
   "source": []
  },
  {
   "cell_type": "code",
   "execution_count": 172,
   "metadata": {},
   "outputs": [
    {
     "name": "stdout",
     "output_type": "stream",
     "text": [
      "For additional information regarding the Sponsorship Levels and the LCD scoreboard options, contact mitsgolf@afceamontgomery.org\n",
      "For additional information regarding the Sponsorship Levels and the LCD scoreboard options, contact mitsgolf@afceamontgomery.org\n",
      "For additional information regarding the Sponsorship Levels and the LCD scoreboard options, contact mitsgolf@afceamontgomery.org\n",
      "For additional information regarding the Sponsorship Levels and the LCD scoreboard options, contact mitsgolf@afceamontgomery.org\n",
      "For additional information regarding the Sponsorship Levels and the LCD scoreboard options, contact mitsgolf@afceamontgomery.org\n",
      "For additional information regarding the Sponsorship Levels and the LCD scoreboard options, contact mitsgolf@afceamontgomery.org\n",
      "For additional information regarding the Sponsorship Levels and the LCD scoreboard options, contact mitsgolf@afceamontgomery.org\n",
      "For additional information regarding the Sponsorship Levels and the LCD scoreboard options, contact mitsgolf@afceamontgomery.org\n",
      "For additional information regarding the Sponsorship Levels and the LCD scoreboard options, contact mitsgolf@afceamontgomery.org\n",
      "#11 Par 3 -- $3000 Corporate Sponsorship before Jan 31, 2018, $3,500 after Jan 31, 2018 w/Company Logo sign on the tee box or tent. Par 3 sponsorship includes three paid afternoon golfers and up to two paid attendees at the AFCEA President’s Appreciation Reception.\n",
      "#17 Par 3 -- $3000 Corporate Sponsorship before Jan 31, 2018, $3,500 after Jan 31, 2018 w/Company Logo sign on the tee box or tent. Par 3 sponsorship includes three paid afternoon golfers and up to three paid attendees at the AFCEA President’s Appreciation Reception.\n",
      "#10 Tee Box -- $3000 Corporate Sponsorship before Jan 31, 2018, $3,500 after Jan 31, 2018 w/Company Logo sign on the tee box or tent. Tee Box sponsorship includes three paid afternoon golfers and up to two paid attendees at the AFCEA President’s Appreciation Reception.\n",
      "\n"
     ]
    }
   ],
   "source": [
    "for i in a:\n",
    "    print(desc[i])"
   ]
  },
  {
   "cell_type": "code",
   "execution_count": 157,
   "metadata": {},
   "outputs": [
    {
     "data": {
      "text/plain": [
       "['#18 Tee Box -- $3,500 w/Company Logo sign on the tee box or tent. Tee Box sponsorship includes three paid afternoon golfers and up to three paid attendees at the AFCEA President’s Appreciation Reception.',\n",
       " 'For additional information regarding the Sponsorship Levels and the LCD scoreboard options, contact mitsgolf@afceamontgomery.org',\n",
       " 'Bronze -- $875 18”x24” Sign w/Company Logo on a Golf Tee-Box. Bronze sponsorship includes one paid morning golfer.',\n",
       " 'For additional information regarding the Sponsorship Levels and the LCD scoreboard options, contact mitsgolf@afceamontgomery.org',\n",
       " 'Silver -- $1,300 2’x3’ Sign w/Company Logo displayed around putting green or practice tee. Silver sponsorship includes one paid afternoon golfer.',\n",
       " 'For additional information regarding the Sponsorship Levels and the LCD scoreboard options, contact mitsgolf@afceamontgomery.org',\n",
       " 'Gold -- $2,000 3’x8’ Banner w/Company Logo displayed around putting green or practice tee. Gold sponsorship includes two paid afternoon golfers.',\n",
       " 'For additional information regarding the Sponsorship Levels and the LCD scoreboard options, contact mitsgolf@afceamontgomery.org',\n",
       " 'Platinum -- $3,200 3’x8’ Banner w/Company Logo and optional tag line displayed around putting green or practice tee. Platinum sponsorship includes three paid afternoon golfers and up to 2 paid attendees at the AFCEA President’s Appreciation Reception.',\n",
       " 'For additional information regarding the Sponsorship Levels and the LCD scoreboard options, contact mitsgolf@afceamontgomery.org',\n",
       " 'Breakfast/Lunch -- $3500 Corporate Sponsorship before Jan 31, 2018, $4,000 after Jan 31, 2018 w/ Company Logo sign over the entrance to the food tent.\\xa0 Breakfast/Lunch sponsorship includes three paid afternoon golfers and up to two paid attendees at the AFCEA President’s Appreciation Reception.',\n",
       " 'For additional information regarding the Sponsorship Levels and the LCD scoreboard options, contact mitsgolf@afceamontgomery.org',\n",
       " 'Golf Awards Dinner -- $5,000 w/Company Logo sign at the awards dinner event following the golf tournament. Dinner sponsorship includes four paid afternoon golfers and up to two paid attendees at the AFCEA President’s Appreciation Reception.',\n",
       " 'For additional information regarding the Sponsorship Levels and the LCD scoreboard options, contact mitsgolf@afceamontgomery.org',\n",
       " '#4 Par 3 -- $3000 Corporate Sponsorship before Jan 31, 2018, $3,500 after Jan 31, 2018 w/Company Logo sign on the tee box or tent. Par 3 sponsorship includes three paid afternoon golfers and up to two paid attendees at the AFCEA President’s Appreciation Reception.',\n",
       " 'For additional information regarding the Sponsorship Levels and the LCD scoreboard options, contact mitsgolf@afceamontgomery.org',\n",
       " '#7 Par 3 -- $3000 Corporate Sponsorship before Jan 31, 2018, $3,500 after Jan 31, 2018 w/Company Logo sign on the tee box or tent. Par 3 sponsorship includes three paid afternoon golfers and up to two paid attendees at the AFCEA President’s Appreciation Reception.',\n",
       " 'For additional information regarding the Sponsorship Levels and the LCD scoreboard options, contact mitsgolf@afceamontgomery.org',\n",
       " '',\n",
       " '#11 Par 3 -- $3000 Corporate Sponsorship before Jan 31, 2018, $3,500 after Jan 31, 2018 w/Company Logo sign on the tee box or tent. Par 3 sponsorship includes three paid afternoon golfers and up to two paid attendees at the AFCEA President’s Appreciation Reception.',\n",
       " 'For additional information regarding the Sponsorship Levels and the LCD scoreboard options, contact mitsgolf@afceamontgomery.org',\n",
       " '#17 Par 3 -- $3000 Corporate Sponsorship before Jan 31, 2018, $3,500 after Jan 31, 2018 w/Company Logo sign on the tee box or tent. Par 3 sponsorship includes three paid afternoon golfers and up to three paid attendees at the AFCEA President’s Appreciation Reception.',\n",
       " 'For additional information regarding the Sponsorship Levels and the LCD scoreboard options, contact Eric Sloan at ericsloanmba@gmail.com',\n",
       " '#10 Tee Box -- $3000 Corporate Sponsorship before Jan 31, 2018, $3,500 after Jan 31, 2018 w/Company Logo sign on the tee box or tent. Tee Box sponsorship includes three paid afternoon golfers and up to two paid attendees at the AFCEA President’s Appreciation Reception.',\n",
       " 'For additional information regarding the Sponsorship Levels and the LCD scoreboard options, contact mitsgolf@afceamontgomery.org',\n",
       " '',\n",
       " '#16 Tee Box -- $3,500 w/Company Logo sign on the tee box or tent. Tee Box sponsorship includes three paid afternoon golfers and up to two paid attendees at the AFCEA President’s Appreciation Reception.',\n",
       " 'For additional information regarding the Sponsorship Levels and the LCD scoreboard options, contact mitsgolf@afceamontgomery.org',\n",
       " '#1 Tee Box -- $3000 Corporate Sponsorship before Jan 31, 2018, $3,500 after Jan 31, 2018 w/Company Logo sign on the tee box or tent. Tee Box sponsorship includes three paid afternoon golfers and up to three paid attendees at the AFCEA President’s Appreciation Reception.',\n",
       " 'For additional information regarding the Sponsorship Levels and the LCD scoreboard options, contact mitsgolf@afceamontgomery.org',\n",
       " 'Drink Cart -- $3500 Corporate Sponsorship before Jan 31, 2018, $4,000 after Jan 31, 2018 w/Company Logo for a drink cart all day. Drink cart sponsorship includes three paid afternoon golfers and up to two paid attendees at the AFCEA President’s Appreciation Reception. AFCEA will furnish the drinks. Sponsor may provide drink cart drivers (1 or 2) for the morning and afternoon sessions, or request AFCEA to provide drivers.',\n",
       " 'For additional information regarding the Sponsorship Levels and the LCD scoreboard options, contact mitsgolf@afceamontgomery.org',\n",
       " 'Snack Cart -- $3500 Corporate Sponsorship before Jan 31, 2018, $4,000 after Jan 31, 2018 w/Company Logo for the snack cart all day. Snack cart sponsorship includes three paid afternoon golfers and up to two paid attendees at the AFCEA President’s Appreciation Reception. AFCEA will furnish the snacks. Sponsor may provide snack cart drivers (1 or 2) for the morning and afternoon sessions, or request AFCEA to provide drivers.',\n",
       " 'For additional information regarding the Sponsorship Levels and the LCD scoreboard options, contact mitsgolf@afceamontgomery.org',\n",
       " 'Driving Range -- $3500 Corporate Sponsorship before Jan 31, 2018, $4,000 after Jan 31, 2018 w/Company Logo providing range balls all day. Driving range sponsorship includes three paid afternoon golfers and up to two paid attendees at the AFCEA President’s Appreciation Reception. Sponsorship may include a special activity on the driving range, morning and afternoon.',\n",
       " 'For additional information regarding the Sponsorship Levels and the LCD scoreboard options, contact mitsgolf@afceamontgomery.org',\n",
       " '\\xa0',\n",
       " 'Pin Flags -- $5,500 w/Company Logo on each of the 18 green pin flags all day. Each golf group will see the corporate logo pin flag on each of the 18 holes. Pin flags sponsorship includes three paid afternoon golfers and up to three paid attendees at the AFCEA President’s Appreciation Reception.',\n",
       " 'For additional information regarding the Sponsorship Levels and the LCD scoreboard options, contact mitsgolf@afceamontgomery.org',\n",
       " 'Golf Carts -- $5,500 w/Company Logo for providing all the golf carts all day. A sign will be placed inside each golf cart recognizing your company as the sponsor of the golf carts and will be seen each time the player enters or exits the golf cart. Golf cart sponsorship includes four paid afternoon golfers and up to three paid attendees at the AFCEA President’s Appreciation Reception.',\n",
       " 'For additional information regarding the Sponsorship Levels and the LCD scoreboard options, contact mitsgolf@afceamontgomery.org',\n",
       " 'Masters -- $5,500 Custom Signage w/Company Logo and Benefits Packages beyond the standard levels of sponsorship. Masters Level sponsorship includes four paid afternoon golfers and up to three paid attendees at the AFCEA President’s Appreciation Reception.',\n",
       " 'For additional information regarding the Sponsorship Levels and the LCD scoreboard options, contact mitsgolf@afceamontgomery.org',\n",
       " 'MITS Badge Lanyards -- $5000 Corporate Sponsorship:\\xa0 Sponsor provides badge lanyards with company logo for every registered attendee at MITS (~900).\\xa0 Badges are to be worn by each attendee for entrance to the auditorium, break areas, and sponsored social events.\\xa0',\n",
       " 'For additional information regarding the Sponsorship Levels and the LCD scoreboard options, contact\\xa0mitsgolf@afceamontgomery.org',\n",
       " '',\n",
       " 'MITS Conference Breaks -- $500 Corporate Sponsorship before Jan 31, 2018, $550 after Jan 31, 2018 w/Company Logo for one of the MITS Conference breaks on Tuesday.',\n",
       " 'For additional information regarding the Sponsorship Levels and the LCD scoreboard options, contact mitsgolf@afceamontgomery.org',\n",
       " '',\n",
       " 'MITS Tuesday Luncheon -- $5,500 w/Company Logo for the Tuesday MITS Education Foundation Luncheon. MITS Luncheon sponsorship includes four paid afternoon golfers and up to three paid attendees at the AFCEA President’s Appreciation Reception.',\n",
       " 'For additional information regarding the Sponsorship Levels and the LCD scoreboard options, contact mitsgolf@afceamontgomery.org',\n",
       " 'MITS Evening Social -- $2,750 w/Company Logo for the Tuesday evening social. MITS Evening Social sponsorship includes two paid afternoon golfers',\n",
       " 'For additional information regarding the Sponsorship Levels and the LCD scoreboard options, contact mitsgolf@afceamontgomery.org',\n",
       " 'MITS Wednesday Evening Social -- $600 w/Company Logo for the Wednesday evening social. This event will be at the Alley Bar, just steps away from the Renaissance Montgomery.']"
      ]
     },
     "execution_count": 157,
     "metadata": {},
     "output_type": "execute_result"
    }
   ],
   "source": [
    "desc"
   ]
  },
  {
   "cell_type": "code",
   "execution_count": null,
   "metadata": {},
   "outputs": [],
   "source": [
    "short_descs = [ti.get_text() for ti in body.select(\".eventDetailsLink .p\")]"
   ]
  },
  {
   "cell_type": "code",
   "execution_count": 115,
   "metadata": {},
   "outputs": [],
   "source": [
    "body = soup.find_all(class_=\"boxBodyContentContainer\")"
   ]
  },
  {
   "cell_type": "code",
   "execution_count": 118,
   "metadata": {},
   "outputs": [
    {
     "ename": "AttributeError",
     "evalue": "ResultSet object has no attribute 'select'. You're probably treating a list of items like a single item. Did you call find_all() when you meant to call find()?",
     "output_type": "error",
     "traceback": [
      "\u001b[1;31m---------------------------------------------------------------------------\u001b[0m",
      "\u001b[1;31mAttributeError\u001b[0m                            Traceback (most recent call last)",
      "\u001b[1;32m<ipython-input-118-56a196530dce>\u001b[0m in \u001b[0;36m<module>\u001b[1;34m()\u001b[0m\n\u001b[1;32m----> 1\u001b[1;33m \u001b[1;33m[\u001b[0m\u001b[0mbody\u001b[0m\u001b[1;33m.\u001b[0m\u001b[0mget_text\u001b[0m\u001b[1;33m(\u001b[0m\u001b[1;33m)\u001b[0m \u001b[1;32mfor\u001b[0m \u001b[0mbody\u001b[0m \u001b[1;32min\u001b[0m \u001b[0mbody\u001b[0m\u001b[1;33m.\u001b[0m\u001b[0mselect\u001b[0m\u001b[1;33m(\u001b[0m\u001b[1;34m\".eventDetailsLink\"\u001b[0m\u001b[1;33m)\u001b[0m\u001b[1;33m]\u001b[0m\u001b[1;33m\u001b[0m\u001b[0m\n\u001b[0m",
      "\u001b[1;32m~\\AppData\\Local\\Continuum\\anaconda3\\lib\\site-packages\\bs4\\element.py\u001b[0m in \u001b[0;36m__getattr__\u001b[1;34m(self, key)\u001b[0m\n\u001b[0;32m   1805\u001b[0m     \u001b[1;32mdef\u001b[0m \u001b[0m__getattr__\u001b[0m\u001b[1;33m(\u001b[0m\u001b[0mself\u001b[0m\u001b[1;33m,\u001b[0m \u001b[0mkey\u001b[0m\u001b[1;33m)\u001b[0m\u001b[1;33m:\u001b[0m\u001b[1;33m\u001b[0m\u001b[0m\n\u001b[0;32m   1806\u001b[0m         raise AttributeError(\n\u001b[1;32m-> 1807\u001b[1;33m             \u001b[1;34m\"ResultSet object has no attribute '%s'. You're probably treating a list of items like a single item. Did you call find_all() when you meant to call find()?\"\u001b[0m \u001b[1;33m%\u001b[0m \u001b[0mkey\u001b[0m\u001b[1;33m\u001b[0m\u001b[0m\n\u001b[0m\u001b[0;32m   1808\u001b[0m         )\n",
      "\u001b[1;31mAttributeError\u001b[0m: ResultSet object has no attribute 'select'. You're probably treating a list of items like a single item. Did you call find_all() when you meant to call find()?"
     ]
    }
   ],
   "source": [
    "[body.get_text() for body in body.select(\".eventDetailsLink\")]"
   ]
  },
  {
   "cell_type": "code",
   "execution_count": 120,
   "metadata": {},
   "outputs": [
    {
     "data": {
      "text/plain": [
       "'\\n2018 Montgomery AFCEA Golf\\n#18 Tee Box Sponsorship\\n\\n#18 Tee Box -- $3,500 w/Company Logo sign on the tee box or tent. Tee Box sponsorship includes three paid afternoon golfers and up to three paid attendees at the AFCEA President’s Appreciation Reception.\\nFor additional information regarding the Sponsorship Levels and the LCD scoreboard options, contact mitsgolf@afceamontgomery.org\\n'"
      ]
     },
     "execution_count": 120,
     "metadata": {},
     "output_type": "execute_result"
    }
   ],
   "source": [
    "soup.find(class_=\"boxBodyContentContainer\").get_text()"
   ]
  },
  {
   "cell_type": "code",
   "execution_count": 134,
   "metadata": {},
   "outputs": [
    {
     "data": {
      "text/plain": [
       "[<h4 class=\"gadgetTitleH4\">\n",
       " Montgomery IT Summit on Social Media </h4>, <h4 class=\"boxHeaderTitle\">\n",
       " <a class=\"eventDetailsLink\" href=\"http://afceamontgomery.org/event-2590438\" id=\"FunctionalBlock1_ctl00_eventPageViewBase_ctl00_ctl00_UpcomingEventsRepeater_ctl01_eventDetailsLink\" title=\"View event details\">2018 MITS Golf #18 Tee Box Sponsorship</a>\n",
       " </h4>, <h4 align=\"center\">2018 Montgomery AFCEA Golf<br/></h4>, <h4 align=\"center\">#18 Tee Box Sponsorship</h4>, <h4 class=\"boxHeaderTitle\">\n",
       " <a class=\"eventDetailsLink\" href=\"http://afceamontgomery.org/event-2590439\" id=\"FunctionalBlock1_ctl00_eventPageViewBase_ctl00_ctl00_UpcomingEventsRepeater_ctl02_eventDetailsLink\" title=\"View event details\">2018 MITS Golf Bronze Sponsorship</a>\n",
       " </h4>, <h4 align=\"center\">2018 Montgomery AFCEA Golf<br/>\n",
       " Bronze Sponsorship</h4>, <h4 class=\"boxHeaderTitle\">\n",
       " <a class=\"eventDetailsLink\" href=\"http://afceamontgomery.org/event-2590440\" id=\"FunctionalBlock1_ctl00_eventPageViewBase_ctl00_ctl00_UpcomingEventsRepeater_ctl03_eventDetailsLink\" title=\"View event details\">2018 MITS Golf Silver Sponsorship</a>\n",
       " </h4>, <h4 align=\"center\">2018 Montgomery AFCEA Golf<br/>\n",
       " Silver Sponsorship</h4>, <h4 class=\"boxHeaderTitle\">\n",
       " <a class=\"eventDetailsLink\" href=\"http://afceamontgomery.org/event-2590442\" id=\"FunctionalBlock1_ctl00_eventPageViewBase_ctl00_ctl00_UpcomingEventsRepeater_ctl04_eventDetailsLink\" title=\"View event details\">2018 MITS Golf Gold Sponsorship</a>\n",
       " </h4>, <h4 align=\"center\">2018 Montgomery AFCEA Golf<br/>\n",
       " Gold Sponsorship</h4>, <h4 class=\"boxHeaderTitle\">\n",
       " <a class=\"eventDetailsLink\" href=\"http://afceamontgomery.org/event-2590443\" id=\"FunctionalBlock1_ctl00_eventPageViewBase_ctl00_ctl00_UpcomingEventsRepeater_ctl05_eventDetailsLink\" title=\"View event details\">2018 MITS Golf Platinum Sponsorship</a>\n",
       " </h4>, <h4 align=\"center\">2018 Montgomery AFCEA Golf<br/>\n",
       " Platinum Sponsorship</h4>, <h4 class=\"boxHeaderTitle\">\n",
       " <a class=\"eventDetailsLink\" href=\"http://afceamontgomery.org/event-2590444\" id=\"FunctionalBlock1_ctl00_eventPageViewBase_ctl00_ctl00_UpcomingEventsRepeater_ctl06_eventDetailsLink\" title=\"View event details\">2018 MITS Golf Breakfast/Lunch Sponsorship</a>\n",
       " </h4>, <h4 align=\"center\">2018 Montgomery AFCEA Golf</h4>, <h4 align=\"center\">Breakfast/Lunch Sponsorship</h4>, <h4 align=\"center\"><br/></h4>, <h4 class=\"boxHeaderTitle\">\n",
       " <a class=\"eventDetailsLink\" href=\"http://afceamontgomery.org/event-2590445\" id=\"FunctionalBlock1_ctl00_eventPageViewBase_ctl00_ctl00_UpcomingEventsRepeater_ctl07_eventDetailsLink\" title=\"View event details\">2018 MITS Golf Awards Dinner Sponsorship</a>\n",
       " </h4>, <h4 align=\"center\">2018 Montgomery AFCEA Golf<br/>\n",
       " Awards Dinner Sponsorship</h4>, <h4 class=\"boxHeaderTitle\">\n",
       " <a class=\"eventDetailsLink\" href=\"http://afceamontgomery.org/event-2590446\" id=\"FunctionalBlock1_ctl00_eventPageViewBase_ctl00_ctl00_UpcomingEventsRepeater_ctl08_eventDetailsLink\" title=\"View event details\">2018 MITS Golf #4 Par 3 Sponsorship</a>\n",
       " </h4>, <h4 align=\"center\">2018 Montgomery AFCEA Golf<br/></h4>, <h4 align=\"center\">#4 Par 3 Sponsorship</h4>, <h4 class=\"boxHeaderTitle\">\n",
       " <a class=\"eventDetailsLink\" href=\"http://afceamontgomery.org/event-2590447\" id=\"FunctionalBlock1_ctl00_eventPageViewBase_ctl00_ctl00_UpcomingEventsRepeater_ctl09_eventDetailsLink\" title=\"View event details\">2018 MITS Golf #7 Par 3 Sponsorship</a>\n",
       " </h4>, <h4 align=\"center\">2017 Montgomery AFCEA Golf</h4>, <h4 align=\"center\">#7 Par 3 Sponsorship<br/></h4>, <h4 class=\"boxHeaderTitle\">\n",
       " <a class=\"eventDetailsLink\" href=\"http://afceamontgomery.org/event-2590449\" id=\"FunctionalBlock1_ctl00_eventPageViewBase_ctl00_ctl00_UpcomingEventsRepeater_ctl10_eventDetailsLink\" title=\"View event details\">2018 MITS Golf #11 Par 3 Sponsorship</a>\n",
       " </h4>, <h4 align=\"center\"></h4>, <h4 align=\"center\">2018 Montgomery AFCEA Golf<br/>\n",
       " #11 Par 3 Sponsorship</h4>, <h4 class=\"boxHeaderTitle\">\n",
       " <a class=\"eventDetailsLink\" href=\"http://afceamontgomery.org/event-2590450\" id=\"FunctionalBlock1_ctl00_eventPageViewBase_ctl00_ctl00_UpcomingEventsRepeater_ctl11_eventDetailsLink\" title=\"View event details\">2018 MITS Golf #17 Par 3 Sponsorship</a>\n",
       " </h4>, <h4 align=\"center\">2018 Montgomery AFCEA Golf<br/>\n",
       " <br/></h4>, <h4 align=\"center\">#17 Par 3 Sponsorship</h4>, <h4 class=\"boxHeaderTitle\">\n",
       " <a class=\"eventDetailsLink\" href=\"http://afceamontgomery.org/event-2590451\" id=\"FunctionalBlock1_ctl00_eventPageViewBase_ctl00_ctl00_UpcomingEventsRepeater_ctl12_eventDetailsLink\" title=\"View event details\">2018 MITS Golf #10 Tee Box Sponsorship</a>\n",
       " </h4>, <h4 align=\"center\">2018 Montgomery AFCEA Golf<br/></h4>, <h4 align=\"center\">#10 Tee Box Sponsorship</h4>, <h4 class=\"boxHeaderTitle\">\n",
       " <a class=\"eventDetailsLink\" href=\"http://afceamontgomery.org/event-2590452\" id=\"FunctionalBlock1_ctl00_eventPageViewBase_ctl00_ctl00_UpcomingEventsRepeater_ctl13_eventDetailsLink\" title=\"View event details\">2018 MITS Golf #16 Tee Box Sponsorship</a>\n",
       " </h4>, <h4 align=\"center\">2018 Montgomery AFCEA Golf<br/></h4>, <h4 align=\"center\">#16 Tee Box Sponsorship</h4>, <h4 class=\"boxHeaderTitle\">\n",
       " <a class=\"eventDetailsLink\" href=\"http://afceamontgomery.org/event-2590453\" id=\"FunctionalBlock1_ctl00_eventPageViewBase_ctl00_ctl00_UpcomingEventsRepeater_ctl14_eventDetailsLink\" title=\"View event details\">2018 MITS Golf #1 Tee Box Sponsorship</a>\n",
       " </h4>, <h4 align=\"center\">2018 Montgomery AFCEA Golf<br/></h4>, <h4 align=\"center\">#1 Tee Box Sponsorship</h4>, <h4 class=\"boxHeaderTitle\">\n",
       " <a class=\"eventDetailsLink\" href=\"http://afceamontgomery.org/event-2590454\" id=\"FunctionalBlock1_ctl00_eventPageViewBase_ctl00_ctl00_UpcomingEventsRepeater_ctl15_eventDetailsLink\" title=\"View event details\">2018 MITS Golf Drink Cart Sponsorship</a>\n",
       " </h4>, <h4 align=\"center\">2018 Montgomery AFCEA Golf<br/>\n",
       " Drink Cart Sponsorship</h4>, <h4 class=\"boxHeaderTitle\">\n",
       " <a class=\"eventDetailsLink\" href=\"http://afceamontgomery.org/event-2590455\" id=\"FunctionalBlock1_ctl00_eventPageViewBase_ctl00_ctl00_UpcomingEventsRepeater_ctl16_eventDetailsLink\" title=\"View event details\">2018 MITS Golf Snack Cart Sponsorship</a>\n",
       " </h4>, <h4 align=\"center\">2018 Montgomery AFCEA Golf<br/></h4>, <h4 align=\"center\">Snack Cart Sponsorship</h4>, <h4 class=\"boxHeaderTitle\">\n",
       " <a class=\"eventDetailsLink\" href=\"http://afceamontgomery.org/event-2590456\" id=\"FunctionalBlock1_ctl00_eventPageViewBase_ctl00_ctl00_UpcomingEventsRepeater_ctl17_eventDetailsLink\" title=\"View event details\">2018 MITS Golf Driving Range Sponsorship</a>\n",
       " </h4>, <h4 align=\"center\">2018 Montgomery AFCEA Golf<br/>\n",
       " Driving Range Sponsorship </h4>, <h4 align=\"center\"><br/></h4>, <h4 class=\"boxHeaderTitle\">\n",
       " <a class=\"eventDetailsLink\" href=\"http://afceamontgomery.org/event-2590457\" id=\"FunctionalBlock1_ctl00_eventPageViewBase_ctl00_ctl00_UpcomingEventsRepeater_ctl18_eventDetailsLink\" title=\"View event details\">2018 MITS Golf Pin Flags Sponsorship</a>\n",
       " </h4>, <h4 align=\"center\">2018 Montgomery AFCEA Golf<br/></h4>, <h4 align=\"center\">Pin Flags Sponsorship</h4>, <h4 class=\"boxHeaderTitle\">\n",
       " <a class=\"eventDetailsLink\" href=\"http://afceamontgomery.org/event-2590458\" id=\"FunctionalBlock1_ctl00_eventPageViewBase_ctl00_ctl00_UpcomingEventsRepeater_ctl19_eventDetailsLink\" title=\"View event details\">2018 MITS Golf Carts Sponsorship</a>\n",
       " </h4>, <h4 align=\"center\">2018 Montgomery AFCEA Golf<br/>\n",
       " Golf Carts Sponsorship</h4>, <h4 class=\"boxHeaderTitle\">\n",
       " <a class=\"eventDetailsLink\" href=\"http://afceamontgomery.org/event-2590459\" id=\"FunctionalBlock1_ctl00_eventPageViewBase_ctl00_ctl00_UpcomingEventsRepeater_ctl20_eventDetailsLink\" title=\"View event details\">2018 MITS Golf Masters Level Sponsorship</a>\n",
       " </h4>, <h4 align=\"center\">2018 Montgomery AFCEA Golf<br/>\n",
       " Masters Level Sponsorship</h4>, <h4 class=\"boxHeaderTitle\">\n",
       " <a class=\"eventDetailsLink\" href=\"http://afceamontgomery.org/event-2878510\" id=\"FunctionalBlock1_ctl00_eventPageViewBase_ctl00_ctl00_UpcomingEventsRepeater_ctl21_eventDetailsLink\" title=\"View event details\">2018 Montgomery IT Summit MITS Badge Lanyards Sponsorship</a>\n",
       " </h4>, <h4 align=\"center\"><font color=\"#333333\" face=\"Oswald, serif\" style=\"font-size: 24px;\">2018 Montgomery IT Summit<br/>\n",
       " MITS Badge Lanyards Sponsorship</font></h4>, <h4 class=\"boxHeaderTitle\">\n",
       " <a class=\"eventDetailsLink\" href=\"http://afceamontgomery.org/event-2590433\" id=\"FunctionalBlock1_ctl00_eventPageViewBase_ctl00_ctl00_UpcomingEventsRepeater_ctl22_eventDetailsLink\" title=\"View event details\">MITS 2018 Conference Break Sponsorship</a>\n",
       " </h4>, <h4 align=\"center\">2018 Montgomery IT Summit<br/></h4>, <h4 align=\"center\">Conference Break Sponsorship</h4>, <h4 class=\"boxHeaderTitle\">\n",
       " <a class=\"eventDetailsLink\" href=\"http://afceamontgomery.org/event-2590426\" id=\"FunctionalBlock1_ctl00_eventPageViewBase_ctl00_ctl00_UpcomingEventsRepeater_ctl23_eventDetailsLink\" title=\"View event details\">MITS 2018 Tuesday Luncheon Sponsorship</a>\n",
       " </h4>, <h4 align=\"center\">2018 Montgomery IT Summit<br/></h4>, <h4 align=\"center\">Tuesday Luncheon Sponsorship</h4>, <h4 class=\"boxHeaderTitle\">\n",
       " <a class=\"eventDetailsLink\" href=\"http://afceamontgomery.org/event-2590150\" id=\"FunctionalBlock1_ctl00_eventPageViewBase_ctl00_ctl00_UpcomingEventsRepeater_ctl24_eventDetailsLink\" title=\"View event details\">MITS 2018 Tuesday Evening Social Sponsorship</a>\n",
       " </h4>, <h4 align=\"center\">2018 Montgomery IT Summit<br/></h4>, <h4 align=\"center\">Tuesday Evening Social Sponsorship</h4>, <h4 class=\"boxHeaderTitle\">\n",
       " <a class=\"eventDetailsLink\" href=\"http://afceamontgomery.org/event-2590135\" id=\"FunctionalBlock1_ctl00_eventPageViewBase_ctl00_ctl00_UpcomingEventsRepeater_ctl25_eventDetailsLink\" title=\"View event details\">MITS 2018 Wednesday Evening Social Sponsorship</a>\n",
       " </h4>, <h4 align=\"center\">2018 Montgomery IT Summit<br/>\n",
       " Wednesday Evening Social Sponsorship</h4>]"
      ]
     },
     "execution_count": 134,
     "metadata": {},
     "output_type": "execute_result"
    }
   ],
   "source": [
    "soup.select(\"body h4\")"
   ]
  }
 ],
 "metadata": {
  "kernelspec": {
   "display_name": "Python 3",
   "language": "python",
   "name": "python3"
  },
  "language_info": {
   "codemirror_mode": {
    "name": "ipython",
    "version": 3
   },
   "file_extension": ".py",
   "mimetype": "text/x-python",
   "name": "python",
   "nbconvert_exporter": "python",
   "pygments_lexer": "ipython3",
   "version": "3.6.3"
  }
 },
 "nbformat": 4,
 "nbformat_minor": 2
}
