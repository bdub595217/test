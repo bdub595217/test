{
 "cells": [
  {
   "cell_type": "code",
   "execution_count": 38,
   "metadata": {},
   "outputs": [],
   "source": [
    "# To support both python 2 and python 3\n",
    "from __future__ import division, print_function, unicode_literals\n",
    "\n",
    "# Common imports\n",
    "import numpy as np\n",
    "import os\n",
    "\n",
    "# to make this notebook's output stable across runs\n",
    "def reset_graph(seed=42):\n",
    "    tf.reset_default_graph()\n",
    "    tf.set_random_seed(seed)\n",
    "    np.random.seed(seed)\n",
    "\n",
    "# To plot pretty figures\n",
    "%matplotlib inline\n",
    "import matplotlib\n",
    "import matplotlib.pyplot as plt\n",
    "plt.rcParams['axes.labelsize'] = 14\n",
    "plt.rcParams['xtick.labelsize'] = 12\n",
    "plt.rcParams['ytick.labelsize'] = 12\n",
    "\n",
    "# Where to save the figures\n",
    "PROJECT_ROOT_DIR = \".\"\n",
    "CHAPTER_ID = \"tensorflow\"\n",
    "\n",
    "def save_fig(fig_id, tight_layout=True):\n",
    "    path = os.path.join(PROJECT_ROOT_DIR, \"images\", CHAPTER_ID, fig_id + \".png\")\n",
    "    print(\"Saving figure\", fig_id)\n",
    "    if tight_layout:\n",
    "        plt.tight_layout()\n",
    "    plt.savefig(path, format='png', dpi=300)"
   ]
  },
  {
   "cell_type": "code",
   "execution_count": 67,
   "metadata": {},
   "outputs": [],
   "source": [
    "from sklearn.datasets import make_moons\n",
    "X, y = make_moons(n_samples=1000, noise=0.15, random_state=42)"
   ]
  },
  {
   "cell_type": "code",
   "execution_count": 68,
   "metadata": {},
   "outputs": [],
   "source": [
    "m, n = X.shape"
   ]
  },
  {
   "cell_type": "code",
   "execution_count": 69,
   "metadata": {},
   "outputs": [
    {
     "data": {
      "image/png": "[encoded data removed]",
      "text/plain": [
       "<matplotlib.figure.Figure at 0x1c1a0c32fd0>"
      ]
     },
     "metadata": {},
     "output_type": "display_data"
    }
   ],
   "source": [
    "def plot_dataset(X, y, axes):\n",
    "    plt.plot(X[:, 0][y==0], X[:, 1][y==0], \"bs\")\n",
    "    plt.plot(X[:, 0][y==1], X[:, 1][y==1], \"g^\")\n",
    "    plt.axis(axes)\n",
    "    plt.grid(True, which='both')\n",
    "    plt.xlabel(r\"$x_1$\", fontsize=20)\n",
    "    plt.ylabel(r\"$x_2$\", fontsize=20, rotation=0)\n",
    "    \n",
    "plot_dataset(X, y, [-1.5, 2.5, -1, 1.5])\n",
    "plt.legend()\n",
    "plt.show()"
   ]
  },
  {
   "cell_type": "code",
   "execution_count": 83,
   "metadata": {},
   "outputs": [
    {
     "data": {
      "text/plain": [
       "(1000, 3)"
      ]
     },
     "execution_count": 83,
     "metadata": {},
     "output_type": "execute_result"
    }
   ],
   "source": [
    "X_moons_with_bias = np.c_[np.ones((m, 1)), X]\n",
    "X_moons_with_bias.shape"
   ]
  },
  {
   "cell_type": "code",
   "execution_count": 114,
   "metadata": {},
   "outputs": [
    {
     "data": {
      "text/plain": [
       "(1000, 1)"
      ]
     },
     "execution_count": 114,
     "metadata": {},
     "output_type": "execute_result"
    }
   ],
   "source": [
    "y_moons_column_vector = y.reshape(-1, 1)\n",
    "y_moons_column_vector.shape"
   ]
  },
  {
   "cell_type": "code",
   "execution_count": 156,
   "metadata": {},
   "outputs": [],
   "source": [
    "test_ratio = 0.2\n",
    "test_size = int(m * test_ratio)\n",
    "X_train = X_moons_with_bias[:-test_size]\n",
    "X_test = X_moons_with_bias[-test_size:]\n",
    "y_train = y_moons_column_vector[:-test_size]\n",
    "y_test = y_moons_column_vector[-test_size:]"
   ]
  },
  {
   "cell_type": "code",
   "execution_count": 157,
   "metadata": {},
   "outputs": [
    {
     "data": {
      "text/plain": [
       "(800, 3)"
      ]
     },
     "execution_count": 157,
     "metadata": {},
     "output_type": "execute_result"
    }
   ],
   "source": [
    "X_train.shape"
   ]
  },
  {
   "cell_type": "code",
   "execution_count": 158,
   "metadata": {},
   "outputs": [
    {
     "data": {
      "text/plain": [
       "(800, 1)"
      ]
     },
     "execution_count": 158,
     "metadata": {},
     "output_type": "execute_result"
    }
   ],
   "source": [
    "y_train.shape"
   ]
  },
  {
   "cell_type": "code",
   "execution_count": 159,
   "metadata": {},
   "outputs": [],
   "source": [
    "def fetch_batch(X_train, y_train, batch_size):\n",
    "    indices = np.random.randint(0, len(X_train), size=batch_size)  # not shown\n",
    "    X_batch = X_train[indices] # not shown\n",
    "    y_batch = y_train[indices] # not shown\n",
    "    return X_batch, y_batch"
   ]
  },
  {
   "cell_type": "code",
   "execution_count": 160,
   "metadata": {},
   "outputs": [
    {
     "data": {
      "text/plain": [
       "array([[ 1.        ,  1.9366647 ,  0.14053972],\n",
       "       [ 1.        ,  1.10901769,  0.16449185],\n",
       "       [ 1.        , -1.01803253, -0.09861155],\n",
       "       [ 1.        ,  0.00441003,  0.20291742],\n",
       "       [ 1.        , -0.98447476,  0.01821391]])"
      ]
     },
     "execution_count": 160,
     "metadata": {},
     "output_type": "execute_result"
    }
   ],
   "source": [
    "X_batch, y_batch = fetch_batch(X_train, y_train, 5)\n",
    "X_batch"
   ]
  },
  {
   "cell_type": "code",
   "execution_count": 161,
   "metadata": {},
   "outputs": [
    {
     "data": {
      "text/plain": [
       "array([[1],\n",
       "       [0],\n",
       "       [0],\n",
       "       [1],\n",
       "       [0]], dtype=int64)"
      ]
     },
     "execution_count": 161,
     "metadata": {},
     "output_type": "execute_result"
    }
   ],
   "source": [
    "y_batch"
   ]
  },
  {
   "cell_type": "code",
   "execution_count": 162,
   "metadata": {},
   "outputs": [],
   "source": [
    "reset_graph()"
   ]
  },
  {
   "cell_type": "code",
   "execution_count": 163,
   "metadata": {},
   "outputs": [],
   "source": [
    "n_inputs = 2"
   ]
  },
  {
   "cell_type": "code",
   "execution_count": 149,
   "metadata": {},
   "outputs": [],
   "source": [
    "import tensorflow as tf"
   ]
  },
  {
   "cell_type": "code",
   "execution_count": 165,
   "metadata": {},
   "outputs": [],
   "source": [
    "X = tf.placeholder(tf.float32, shape=(None, n_inputs + 1), name=\"X\")\n",
    "y = tf.placeholder(tf.float32, shape=(None, 1), name=\"y\")\n",
    "\n",
    "theta = tf.Variable(tf.random_uniform([n_inputs + 1, 1], -1.0, 1.0, seed=42), name=\"theta\")\n",
    "logits = tf.matmul(X, theta, name=\"logits\")"
   ]
  },
  {
   "cell_type": "code",
   "execution_count": 166,
   "metadata": {},
   "outputs": [],
   "source": [
    "y_proba = tf.sigmoid(logits)"
   ]
  },
  {
   "cell_type": "code",
   "execution_count": 167,
   "metadata": {},
   "outputs": [],
   "source": [
    "loss = tf.losses.log_loss(y, y_proba)  # uses epsilon = 1e-7 by default"
   ]
  },
  {
   "cell_type": "code",
   "execution_count": 168,
   "metadata": {},
   "outputs": [
    {
     "data": {
      "text/plain": [
       "<tf.Tensor 'log_loss/value:0' shape=() dtype=float32>"
      ]
     },
     "execution_count": 168,
     "metadata": {},
     "output_type": "execute_result"
    }
   ],
   "source": [
    "loss"
   ]
  },
  {
   "cell_type": "code",
   "execution_count": 169,
   "metadata": {},
   "outputs": [],
   "source": [
    "learning_rate = 0.01\n",
    "optimizer = tf.train.GradientDescentOptimizer(learning_rate=learning_rate)\n",
    "training_op = optimizer.minimize(loss)"
   ]
  },
  {
   "cell_type": "code",
   "execution_count": 170,
   "metadata": {},
   "outputs": [],
   "source": [
    "init = tf.global_variables_initializer()"
   ]
  },
  {
   "cell_type": "code",
   "execution_count": 172,
   "metadata": {},
   "outputs": [
    {
     "name": "stdout",
     "output_type": "stream",
     "text": [
      "Epoch: 0 \tLoss: 0.792846\n",
      "Epoch: 100 \tLoss: 0.34838\n",
      "Epoch: 200 \tLoss: 0.314859\n",
      "Epoch: 300 \tLoss: 0.302121\n",
      "Epoch: 400 \tLoss: 0.296051\n",
      "Epoch: 500 \tLoss: 0.292377\n",
      "Epoch: 600 \tLoss: 0.290838\n",
      "Epoch: 700 \tLoss: 0.289445\n",
      "Epoch: 800 \tLoss: 0.289409\n",
      "Epoch: 900 \tLoss: 0.289213\n"
     ]
    }
   ],
   "source": [
    "n_epochs = 1000\n",
    "batch_size = 50\n",
    "n_batches = int(np.ceil(m / batch_size))\n",
    "\n",
    "with tf.Session() as sess:\n",
    "    sess.run(init)\n",
    "\n",
    "    for epoch in range(n_epochs):\n",
    "        for batch_index in range(n_batches):\n",
    "            X_batch, y_batch = fetch_batch(X_train, y_train, batch_size)\n",
    "            sess.run(training_op, feed_dict={X: X_batch, y: y_batch})\n",
    "        loss_val = loss.eval({X: X_test, y: y_test})\n",
    "        if epoch % 100 == 0:\n",
    "            print(\"Epoch:\", epoch, \"\\tLoss:\", loss_val)\n",
    "\n",
    "    y_proba_val = y_proba.eval(feed_dict={X: X_test, y: y_test})"
   ]
  },
  {
   "cell_type": "code",
   "execution_count": 174,
   "metadata": {},
   "outputs": [
    {
     "data": {
      "text/plain": [
       "array([[ 0.56415761],\n",
       "       [ 0.62248582],\n",
       "       [ 0.43826532],\n",
       "       [ 0.99059111],\n",
       "       [ 0.61868668]], dtype=float32)"
      ]
     },
     "execution_count": 174,
     "metadata": {},
     "output_type": "execute_result"
    }
   ],
   "source": [
    "y_proba_val[:5]"
   ]
  },
  {
   "cell_type": "code",
   "execution_count": 175,
   "metadata": {},
   "outputs": [
    {
     "data": {
      "text/plain": [
       "array([[ True],\n",
       "       [ True],\n",
       "       [False],\n",
       "       [ True],\n",
       "       [ True]], dtype=bool)"
      ]
     },
     "execution_count": 175,
     "metadata": {},
     "output_type": "execute_result"
    }
   ],
   "source": [
    "y_pred = (y_proba_val >= 0.5)\n",
    "y_pred[:5]"
   ]
  },
  {
   "cell_type": "code",
   "execution_count": 176,
   "metadata": {},
   "outputs": [
    {
     "data": {
      "text/plain": [
       "0.839622641509434"
      ]
     },
     "execution_count": 176,
     "metadata": {},
     "output_type": "execute_result"
    }
   ],
   "source": [
    "from sklearn.metrics import precision_score, recall_score\n",
    "\n",
    "precision_score(y_test, y_pred)"
   ]
  },
  {
   "cell_type": "code",
   "execution_count": 177,
   "metadata": {},
   "outputs": [
    {
     "data": {
      "text/plain": [
       "0.89898989898989901"
      ]
     },
     "execution_count": 177,
     "metadata": {},
     "output_type": "execute_result"
    }
   ],
   "source": [
    "recall_score(y_test, y_pred)"
   ]
  },
  {
   "cell_type": "code",
   "execution_count": 178,
   "metadata": {},
   "outputs": [
    {
     "data": {
      "image/png": "[encoded data removed]",
      "text/plain": [
       "<matplotlib.figure.Figure at 0x1c1a21537f0>"
      ]
     },
     "metadata": {},
     "output_type": "display_data"
    }
   ],
   "source": [
    "y_pred_idx = y_pred.reshape(-1) # a 1D array rather than a column vector\n",
    "plt.plot(X_test[y_pred_idx, 1], X_test[y_pred_idx, 2], 'go', label=\"Positive\")\n",
    "plt.plot(X_test[~y_pred_idx, 1], X_test[~y_pred_idx, 2], 'r^', label=\"Negative\")\n",
    "plt.legend()\n",
    "plt.show()"
   ]
  },
  {
   "cell_type": "code",
   "execution_count": 179,
   "metadata": {},
   "outputs": [
    {
     "data": {
      "text/plain": [
       "array([ -8.15681097e-02,   1.08733336e+00,   8.31724910e-01,\n",
       "         2.00338837e-01,  -8.24952644e-01,   6.38107775e-01,\n",
       "         2.80502153e-01,  -8.58299670e-02,   1.58829295e+00,\n",
       "         7.36815648e-01,   1.04637220e+00,   8.47165746e-01,\n",
       "         3.07188435e-01,   1.88517069e+00,   2.08489660e+00,\n",
       "         1.57123845e+00,  -2.26720129e-01,   1.87882918e+00,\n",
       "         9.39615805e-01,  -3.98948271e-01,  -8.40131986e-02,\n",
       "         5.34039631e-01,  -5.47603169e-01,  -5.86963931e-02,\n",
       "         8.24193021e-02,   3.17627720e-01,   7.52424261e-01,\n",
       "         2.18969880e+00,   1.75514115e+00,   2.09146551e+00,\n",
       "        -3.62965922e-01,   3.96077422e-01,   1.17639819e-01,\n",
       "        -9.74410869e-01,  -8.21562340e-01,   3.45661004e-01,\n",
       "         5.86162686e-01,   4.03934286e-01,   1.84815508e+00,\n",
       "         9.69338310e-01,  -6.75560570e-01,   8.50428790e-01,\n",
       "        -3.96944531e-01,   2.36844271e+00,  -3.94833985e-01,\n",
       "        -1.16207315e-02,   2.01841437e+00,   1.60964793e-01,\n",
       "        -7.38979273e-01,   1.29802290e+00,  -7.32642666e-02,\n",
       "         1.72693544e+00,   4.83276704e-02,   2.80240477e-01,\n",
       "         8.36955545e-01,   8.62349812e-01,   2.59351961e-01,\n",
       "         8.96383882e-01,   6.10868440e-02,   1.41219504e+00,\n",
       "         9.68992449e-02,   1.15105136e+00,  -2.77000057e-01,\n",
       "         7.55957969e-02,   2.50282719e-01,   6.23366279e-01,\n",
       "         6.01545929e-01,   1.61515881e+00,   9.77248815e-01,\n",
       "         2.30377972e-02,   6.75880506e-01,  -9.84474756e-01,\n",
       "         2.31351465e-01,   8.93909206e-01,  -1.42309600e-01,\n",
       "        -2.10930067e-01,   6.70950345e-01,   8.71422348e-01,\n",
       "        -9.75497633e-02,  -5.40377211e-01,   7.67943334e-01,\n",
       "         1.02835876e+00,   2.71506441e-02,   6.49326100e-01,\n",
       "        -2.72243014e-01,  -5.04210097e-03,   2.32326611e+00,\n",
       "         6.84927827e-01,   8.28766329e-01,  -7.13230958e-01,\n",
       "        -4.39916799e-01,  -1.02505700e+00,   2.52656799e-01,\n",
       "         4.64558861e-02,   1.21018925e+00,  -8.64824485e-01,\n",
       "         1.03896006e+00,   6.35257291e-01,   6.93764292e-01,\n",
       "         1.66441843e+00,   8.76746665e-01,  -2.84212987e-01,\n",
       "         1.93666470e+00,   5.02239010e-02,   3.39163702e-01,\n",
       "         1.30133503e-01,   4.41003315e-03,   1.99543460e+00,\n",
       "         7.87139573e-01,   1.63598170e+00,   9.04580764e-02,\n",
       "         1.28323412e+00,   1.73168807e+00,   1.20864273e+00,\n",
       "         1.01665438e+00,  -7.89841735e-01,   5.93725176e-01,\n",
       "         1.92321116e+00,  -2.06160050e-01,  -1.53738693e-01,\n",
       "         1.84854698e+00,  -7.24062828e-01,   7.02403723e-01,\n",
       "        -2.76831509e-01,  -7.77567272e-02,   2.90441917e-02,\n",
       "         1.95335984e-01,  -1.04035175e+00,   1.80427082e+00,\n",
       "         1.11018783e+00,   2.95042766e-01,   1.76973183e+00,\n",
       "        -1.73908373e-01,   2.13765705e+00,  -2.35652020e-01,\n",
       "         8.09751361e-01,   6.82879381e-01,   6.45830750e-02,\n",
       "         6.97587303e-01,   7.38421884e-01,   9.37017843e-01,\n",
       "         3.62197206e-01,   9.96597037e-01,  -4.32513620e-01,\n",
       "         1.70783302e+00,   1.94350324e+00,   1.29735565e+00,\n",
       "        -2.13900368e-02,   1.56014476e+00,  -3.83556048e-01,\n",
       "         2.72840385e-01,   8.98333488e-01,   1.86440671e+00,\n",
       "        -9.58831669e-01,   2.01559327e+00,  -1.10057454e+00,\n",
       "        -6.28181156e-01,   8.08072362e-01,   8.03361785e-01,\n",
       "         1.85336684e+00,  -3.48528944e-01,   1.29079754e+00,\n",
       "         6.07236314e-01,   1.67834372e-01,   1.70075573e+00,\n",
       "         6.49064026e-01,  -2.39779765e-01,   7.03611483e-01,\n",
       "        -2.43730839e-01,  -4.69129710e-01,  -7.01278644e-01,\n",
       "        -1.09551416e+00,   8.32367510e-01,   1.96416177e+00,\n",
       "        -8.73989655e-01,  -6.51596860e-01,   8.46684343e-02,\n",
       "         1.64495834e-01,   1.36452985e+00,   6.39944569e-01,\n",
       "        -8.18157289e-01,   5.46455093e-01,  -7.47198465e-01,\n",
       "        -4.10762390e-02,   1.29417714e+00,   5.78504769e-01,\n",
       "        -5.61367573e-01,  -6.84408078e-01,   2.04611660e+00,\n",
       "         7.41703084e-01,   1.76441327e+00,   1.57717223e+00,\n",
       "         6.13034960e-01,   2.79245448e-01,   2.10590205e-01,\n",
       "        -1.02441296e+00,  -3.61677457e-01,   1.51681449e-01,\n",
       "         2.53697243e-01,   1.02440392e+00,   1.05920424e+00,\n",
       "         6.46298731e-02,   7.69730624e-01,   1.32691293e-01,\n",
       "         1.37640759e+00,   3.64533978e-01,   3.52644410e-01,\n",
       "         1.92901174e+00,  -1.20342360e+00,   1.34090119e+00,\n",
       "         6.78718575e-01,   5.36003351e-01,   1.85188842e+00,\n",
       "         1.44283678e+00,   8.10373817e-01,  -3.37357242e-01,\n",
       "         5.43152076e-01,  -4.78663333e-04,   1.79739624e+00,\n",
       "         1.10199170e+00,  -2.63615478e-01,   7.71122463e-01,\n",
       "         1.94822838e+00,   9.25940397e-01,   1.82632335e+00,\n",
       "         1.14825314e+00,  -3.58957233e-02,  -5.50018322e-01,\n",
       "         2.09820464e+00,   8.45643611e-02,  -6.47387594e-01,\n",
       "         2.01668459e+00,  -1.02327868e+00,   1.69624151e-01,\n",
       "         9.23067037e-01,   8.26278456e-01,   2.09011696e-01,\n",
       "         2.41917666e+00,   2.14170015e-01,  -6.70990415e-01,\n",
       "         9.24483282e-01,   4.46213107e-01,   1.43813756e-01,\n",
       "         1.02697123e+00,  -5.82528341e-01,   7.57825353e-01,\n",
       "        -1.15206195e+00,   1.00485464e+00,   9.43319240e-01,\n",
       "        -2.12582261e-02,   9.29918372e-01,   2.04730191e+00,\n",
       "         9.98554186e-01,   1.76583443e+00,  -1.13971724e+00,\n",
       "        -6.19736470e-01,   6.32879249e-02,   1.98764354e+00,\n",
       "         2.05093798e+00,   7.66119783e-01,   5.69517658e-01,\n",
       "        -1.01606484e+00,   9.16590972e-01,  -2.29451712e-01,\n",
       "        -4.99236616e-01,   1.86091935e+00,   1.35502075e+00,\n",
       "        -7.77731954e-01,   2.72224929e-01,  -7.29251124e-01,\n",
       "        -1.01803253e+00,   7.08009734e-01,   1.72365264e+00,\n",
       "         1.77535058e-02,  -9.57134695e-03,   6.83257310e-01,\n",
       "         1.99821220e-01,   6.22180021e-02,   9.14250419e-01,\n",
       "         1.37031148e+00,   2.28374913e-01,   1.28997879e+00,\n",
       "         2.10502350e-01,  -3.19563176e-01,   2.69655826e-01,\n",
       "         6.35312922e-01,  -7.99503691e-01,  -1.06660603e+00,\n",
       "         2.91953096e-01,   2.00388219e+00,   2.02950516e+00,\n",
       "         1.03587197e+00,   1.57057837e-01,  -8.67600589e-01,\n",
       "        -4.57061070e-01,  -9.62939899e-01,   1.72821277e+00,\n",
       "        -1.03452240e+00,   7.66119995e-01,   3.66496304e-01,\n",
       "         5.85842363e-02,  -7.68351991e-01,  -1.33164231e+00,\n",
       "        -8.75908590e-01,   1.11033176e+00,   1.77735014e+00,\n",
       "        -2.90444332e-01,   4.61596608e-01,   2.01942523e+00,\n",
       "         4.97506344e-02,   1.41729301e-01,   1.27306230e-02,\n",
       "        -3.35093901e-03,   8.81245923e-01,  -1.23570915e+00,\n",
       "        -7.31178907e-01,   4.44477018e-02,  -6.21592041e-01,\n",
       "         7.19673822e-01,   5.10898450e-01,   9.02913577e-01,\n",
       "         8.06022391e-01,  -4.11387252e-01,   3.78302730e-01,\n",
       "         1.35319321e+00,  -4.18778940e-02,  -4.75050361e-01,\n",
       "        -8.23705148e-01,   7.18680589e-01,   7.81517243e-01,\n",
       "         8.31845462e-01,  -1.04652223e-01,   8.63651418e-01,\n",
       "         6.45468506e-01,   1.07865441e+00,  -4.59661064e-01,\n",
       "         9.13232011e-01,  -1.87081842e-01,   1.91594369e+00,\n",
       "         6.73830203e-02,  -9.28241946e-01,  -1.04175044e+00,\n",
       "         6.15249603e-01,   7.51395762e-01,  -1.03280087e+00,\n",
       "        -1.04395904e+00,  -3.48725726e-02,   1.70899022e+00,\n",
       "         7.50447418e-01,   2.08415754e+00,   4.87410368e-01,\n",
       "        -3.29526110e-01,   1.89744331e+00,   8.68044320e-01,\n",
       "        -2.43847181e-01,   5.30139096e-01,  -4.49851225e-01,\n",
       "        -6.53057640e-01,  -2.66120221e-01,   5.36346548e-01,\n",
       "        -8.76746730e-01,   1.35457110e-01,   5.47658941e-01,\n",
       "        -1.03191259e+00,   5.88228040e-01,   8.23913416e-01,\n",
       "         1.04176843e+00,   3.61335273e-01,  -8.92809411e-01,\n",
       "         1.92481330e+00,   6.10839304e-01,   7.61184443e-01,\n",
       "         5.78338444e-01,   3.97433561e-01,   1.08455277e+00,\n",
       "         8.95604335e-01,  -1.16945973e+00,   7.40747295e-01,\n",
       "         1.85466326e+00,   1.35544541e+00,   4.42069842e-01,\n",
       "         5.13901432e-01,   8.85531391e-01,   4.16728008e-02,\n",
       "         2.60823175e-01,   1.61733491e+00,  -4.33240681e-01,\n",
       "         7.16600979e-01,   2.07941205e+00,   1.00865807e+00,\n",
       "         2.91708950e-01,   8.82322478e-01,   6.14425083e-01,\n",
       "         8.22975449e-01,   1.51940971e-01,   7.08345813e-01,\n",
       "        -7.55007148e-01,  -1.09289399e+00,   1.02792466e+00,\n",
       "         1.92385454e+00,   1.16977770e+00,  -8.47977977e-01,\n",
       "         2.55090827e-02,  -3.97496139e-02,   3.92956142e-01,\n",
       "         6.73978050e-01,   1.74711775e+00,  -8.22815350e-01,\n",
       "         7.69934681e-01,   1.76203603e-01,  -3.40335326e-01,\n",
       "         1.74761909e+00,   1.23975305e+00,   8.01869455e-02,\n",
       "         1.17241837e+00,   7.40620733e-01,   7.99296362e-01,\n",
       "         1.53784229e+00,  -8.96597215e-02,  -1.12558148e+00,\n",
       "         1.00688271e+00,   7.50152112e-01,  -9.59386565e-01,\n",
       "        -3.01247481e-02,  -1.06204364e+00,  -5.72066259e-01,\n",
       "         7.98838126e-01,   9.69539176e-01,   2.37012983e-01,\n",
       "        -5.01120447e-02,  -4.09532349e-01,  -5.98733200e-01,\n",
       "        -5.15210272e-01,  -1.05108272e+00,   3.98744037e-02,\n",
       "         1.10901769e+00,   2.84228359e-01,  -5.95219828e-01,\n",
       "         1.64729245e+00,  -9.81214827e-03,   2.52981561e-01,\n",
       "         2.84197339e-02,   2.01494955e+00,   2.28065603e-01,\n",
       "         8.54834760e-02,   2.55959859e-01,   5.12617257e-01,\n",
       "         5.79691095e-01,   3.36927691e-01,   5.85719558e-01,\n",
       "         1.25647521e-01,   1.82342362e+00,  -7.80891244e-01,\n",
       "         5.92229422e-01,   3.54505038e-01,   5.03712246e-02,\n",
       "         2.02501437e+00,   5.63907079e-01,  -8.03794455e-01,\n",
       "        -8.91277683e-01,   1.01769142e+00,   9.50631060e-01,\n",
       "         2.23473504e-01,   2.07949406e+00,  -8.50830374e-01,\n",
       "         8.34891080e-01,   5.35829632e-01,  -9.37802980e-01,\n",
       "        -1.10216868e-01,  -8.76885017e-01,  -1.09854754e+00,\n",
       "         1.08905837e+00,   2.08210139e+00,   8.74250364e-01,\n",
       "        -1.85925182e-01,   2.01657028e+00,   2.16102584e+00,\n",
       "         2.15954540e+00,   1.16937578e-01,   1.65511704e-01,\n",
       "         4.01790702e-01,   9.72110067e-01,   5.81568502e-01,\n",
       "        -8.61781180e-01,  -1.04984370e-01,   1.03558796e+00,\n",
       "         9.93720734e-01,  -2.00605914e-01,   4.43918910e-01,\n",
       "        -8.27809328e-01,   1.89465054e+00,  -7.25456932e-03,\n",
       "         8.29287454e-01,   7.29109711e-01,  -1.18062841e+00,\n",
       "         5.90043429e-01,  -9.95970490e-01,  -8.95366233e-01,\n",
       "         1.52122389e+00,   1.77160586e+00,   1.45580173e-01,\n",
       "         5.75785333e-01,  -7.39976848e-01,   1.90970846e+00,\n",
       "         1.32347809e+00,   1.82355106e+00,   6.52468485e-01,\n",
       "        -8.71009774e-01,   1.91800440e+00,   9.30531820e-01,\n",
       "        -3.19541392e-02,  -2.35943334e-01,  -4.75606026e-01,\n",
       "         1.10090516e+00,  -4.68458440e-01,   1.18617958e+00,\n",
       "         5.71027394e-03,   2.29448046e-01,   2.00692978e+00,\n",
       "         8.69160244e-01,  -6.85391572e-01,   5.93127931e-01,\n",
       "         1.79835532e+00,  -5.83767736e-01,  -8.52828530e-01,\n",
       "         3.87091576e-02,   1.31186526e+00,   2.21332748e-01,\n",
       "         5.82126424e-01,   7.26817861e-01,   2.75515561e-01,\n",
       "         8.12664742e-01,   1.86484664e-01,  -3.21855516e-01,\n",
       "         1.73475817e+00,  -1.13434848e+00,   5.16780410e-01,\n",
       "         9.38198184e-01,   8.68383995e-01,  -9.32342655e-01,\n",
       "         2.31571168e-01,   2.08120768e-02,   2.81311630e-01,\n",
       "        -1.27176277e+00,   7.95138529e-01,   2.11671247e+00,\n",
       "         1.17661025e-01,   1.27476572e+00,   3.07062023e-01,\n",
       "         8.26591310e-01,   7.05135534e-01,  -1.06860876e+00,\n",
       "         6.96440023e-01,   9.06368760e-01,   1.54492259e+00,\n",
       "         1.88243562e+00,  -6.05158646e-01,  -7.64503067e-02,\n",
       "         1.13066656e+00,  -7.64607880e-01,   3.41335381e-01,\n",
       "         2.26893839e+00,   1.38644626e+00,   9.55755485e-01,\n",
       "         1.86290728e-01,  -9.84039836e-01,   5.23164101e-01,\n",
       "        -3.50102075e-01,  -6.19481392e-01,   2.06036786e+00,\n",
       "         5.06552190e-01,   6.11030660e-01,   1.34231742e+00,\n",
       "         7.23094436e-01,  -6.21923106e-01,   1.90470116e+00,\n",
       "         6.82163665e-01,  -8.04177850e-01,  -8.68586252e-01,\n",
       "         2.17627755e-01,  -2.23041717e-01,   7.02436786e-01,\n",
       "         1.52020150e+00,   1.36076664e+00,   1.17821922e+00,\n",
       "        -7.95989853e-01,  -1.17937928e-01,   1.63347626e-02,\n",
       "         9.92642726e-01,   4.89966569e-01,   1.97088061e-04,\n",
       "         1.44106466e+00,   4.38355927e-01,   1.05772346e+00,\n",
       "         1.76449352e+00,   6.64578060e-01,  -1.82977302e-01,\n",
       "         6.25960149e-02,  -1.89899112e-01,   7.18132320e-01,\n",
       "         1.15179454e+00,   7.61266598e-01,  -3.05388401e-01,\n",
       "         7.55258478e-02,   4.62472444e-01,   1.86575233e+00,\n",
       "         4.18028665e-01,   7.88926014e-01,   3.53024916e-01,\n",
       "        -5.69679324e-02,   6.44835835e-01,  -1.85710907e-01,\n",
       "         1.37555459e+00,   9.49365608e-01,   6.81771993e-01,\n",
       "         4.60166339e-01,   1.95359492e+00,   6.93571921e-02,\n",
       "         2.21740602e+00,   1.30376804e+00,   1.82789066e+00,\n",
       "         4.84057619e-01,   1.56338099e+00,   5.42148798e-01,\n",
       "         8.60780884e-01,  -2.83431872e-02,   1.11735678e+00,\n",
       "         2.05652449e+00,   1.98840433e+00,  -1.12416920e-01,\n",
       "         1.82360660e+00,  -9.77322463e-01,  -2.12132080e-01,\n",
       "         7.43113652e-01,   1.51258749e+00,   2.78338012e-01,\n",
       "         1.10243588e+00,   2.09832260e+00,  -9.03050291e-01,\n",
       "         1.84844157e+00,  -7.84879909e-01,  -4.51676990e-03,\n",
       "         1.20120084e+00,   2.05396588e+00,  -5.22032188e-01,\n",
       "        -8.05790132e-01,   2.01078311e+00,   1.64857569e+00,\n",
       "         7.26196459e-01,   1.29016243e+00,   7.44065275e-01,\n",
       "         1.31755485e+00,   1.78835483e+00,   7.08251359e-02,\n",
       "         2.25824897e+00,   1.34381314e+00,   8.12924165e-02,\n",
       "         2.06022515e+00,   2.50541464e-01,   1.56497535e+00,\n",
       "         8.13856216e-01,   1.17056347e+00,   1.96129839e+00,\n",
       "         8.89959215e-01,   7.73031384e-01,  -6.44886756e-02,\n",
       "         5.99820933e-01,   9.63557166e-01,  -1.12616203e+00,\n",
       "        -5.92112776e-01,   9.96252382e-01,   1.43854802e-01,\n",
       "         1.17552406e+00,   3.66486168e-01,   4.61668472e-01,\n",
       "         9.30829605e-01,   6.17080713e-01,  -1.05379627e+00,\n",
       "         2.02210771e+00,   2.91884218e-01,   6.91195163e-01,\n",
       "         1.52236962e+00,   9.19105703e-01,   8.09513665e-01,\n",
       "         1.36331937e+00,   1.11863836e+00,  -9.82319096e-01,\n",
       "         3.88062704e-01,   2.17458284e-02,  -3.63875942e-02,\n",
       "         9.10779392e-01,   9.37304825e-02,   5.64674736e-02,\n",
       "         9.29929615e-01,   1.72334353e+00,  -1.78438816e-01,\n",
       "         2.11677704e-01,  -2.96632705e-01,  -8.21905708e-01,\n",
       "         3.69047732e-01,   1.33598903e+00,   4.00005962e-01,\n",
       "         2.17702161e+00,   2.28231661e-01,   1.81963847e+00,\n",
       "        -8.22732029e-01,   5.81163677e-01,   9.56456286e-01,\n",
       "         1.10890002e+00,   2.05254489e+00,   8.72448403e-01,\n",
       "         6.32371829e-01,  -7.15296719e-01,  -1.05476711e+00,\n",
       "        -3.80376513e-01,   4.52424357e-01,   8.19419762e-01,\n",
       "         1.69414511e+00,   1.07333832e-01,   4.98341805e-01,\n",
       "         1.72082984e+00,   2.95885610e-01,   2.42383938e-01,\n",
       "        -1.80130906e-01,  -3.39945998e-01,  -5.93713989e-01,\n",
       "         6.92361035e-01,   3.82340262e-01,   1.44907456e-01,\n",
       "        -7.96219769e-01,  -1.20525442e-03,  -9.05148932e-01,\n",
       "         1.68122756e+00,   1.10926415e+00,   1.58549407e+00,\n",
       "         1.38446669e+00,   1.76272388e+00,   1.01605916e+00,\n",
       "         2.52138369e-01,  -9.85055338e-01,   1.34200635e+00,\n",
       "         1.16419268e+00,   7.35494155e-01,   1.74614865e+00,\n",
       "        -8.41578455e-02,   4.19091697e-01,   1.76946175e+00,\n",
       "         1.15900325e+00,   1.21948982e+00,   1.83487464e+00,\n",
       "         3.98864994e-01,   1.86010619e+00,   1.04211834e+00,\n",
       "        -7.91372820e-01,   1.97575500e+00,   2.36921652e-01,\n",
       "        -3.16167777e-02,   1.45245347e+00,  -1.09237645e+00,\n",
       "        -9.69326198e-01,   6.95812766e-01,   7.01156050e-01,\n",
       "        -3.14924606e-01,   1.46713063e+00,   7.76434035e-03,\n",
       "         7.10924477e-01,  -7.61019533e-01,   1.93799713e+00,\n",
       "         1.50904296e+00,   2.49334788e-01,   1.11034308e+00,\n",
       "         7.44787519e-01,  -2.51012448e-01,   6.35789777e-01,\n",
       "        -8.18238941e-01,   1.67278085e+00,   4.86197731e-01,\n",
       "        -8.59991969e-01,  -8.61939468e-02,   1.08222710e+00,\n",
       "         2.91374488e-01,   4.06603192e-01,   9.94981933e-02,\n",
       "        -5.56812473e-01,  -7.31039164e-01,   1.24199298e-01,\n",
       "         2.10548456e+00,   1.07077491e+00,  -8.37286764e-01,\n",
       "        -4.75476257e-01,  -3.40529020e-01,   2.99715549e-01,\n",
       "         1.88567737e+00,   2.15247031e+00,   1.72567965e+00,\n",
       "         3.48327940e-01,   1.58557377e+00,   1.23117166e+00,\n",
       "         4.39358803e-01,   1.62984180e+00])"
      ]
     },
     "execution_count": 179,
     "metadata": {},
     "output_type": "execute_result"
    }
   ],
   "source": [
    "np.square(X_train[:, 1])"
   ]
  },
  {
   "cell_type": "markdown",
   "metadata": {},
   "source": [
    "# Saving and restoring a model"
   ]
  },
  {
   "cell_type": "code",
   "execution_count": null,
   "metadata": {},
   "outputs": [],
   "source": [
    "reset_graph()\n",
    "\n",
    "n_epochs = 1000                                                                       # not shown in the book\n",
    "learning_rate = 0.01                                                                  # not shown\n",
    "\n",
    "X = tf.constant(scaled_housing_data_plus_bias, dtype=tf.float32, name=\"X\")            # not shown\n",
    "y = tf.constant(housing.target.reshape(-1, 1), dtype=tf.float32, name=\"y\")            # not shown\n",
    "theta = tf.Variable(tf.random_uniform([n + 1, 1], -1.0, 1.0, seed=42), name=\"theta\")\n",
    "y_pred = tf.matmul(X, theta, name=\"predictions\")                                      # not shown\n",
    "error = y_pred - y                                                                    # not shown\n",
    "mse = tf.reduce_mean(tf.square(error), name=\"mse\")                                    # not shown\n",
    "optimizer = tf.train.GradientDescentOptimizer(learning_rate=learning_rate)            # not shown\n",
    "training_op = optimizer.minimize(mse)                                                 # not shown\n",
    "\n",
    "init = tf.global_variables_initializer()\n",
    "saver = tf.train.Saver()\n",
    "\n",
    "with tf.Session() as sess:\n",
    "    sess.run(init)\n",
    "\n",
    "    for epoch in range(n_epochs):\n",
    "        if epoch % 100 == 0:\n",
    "            print(\"Epoch\", epoch, \"MSE =\", mse.eval())                                # not shown\n",
    "            save_path = saver.save(sess, \"/tmp/my_model.ckpt\")\n",
    "        sess.run(training_op)\n",
    "    \n",
    "    best_theta = theta.eval()\n",
    "    save_path = saver.save(sess, \"/tmp/my_model_final.ckpt\")"
   ]
  },
  {
   "cell_type": "markdown",
   "metadata": {},
   "source": [
    "# Restoring session"
   ]
  },
  {
   "cell_type": "code",
   "execution_count": null,
   "metadata": {},
   "outputs": [],
   "source": [
    "with tf.Session() as sess:\n",
    "    saver.restore(sess, \"/tmp/my_model_final.ckpt\")\n",
    "    best_theta_restored = theta.eval() # not shown in the book"
   ]
  },
  {
   "cell_type": "markdown",
   "metadata": {},
   "source": [
    "Economic Growth % Xi  S&P 500 Returns % Yi \n",
    " \n",
    "2.3    8\n",
    "2.5    9\n",
    "3.6    13\n",
    "\n",
    "Find the sample mean for x and y. (mean of x = 2.8 and mean of y=10)\n",
    "\n",
    "For each value x, find x - the mean of x. (2.3 - 2.8) = -0.5, (2.5 - 2.8) = -0.3, (3.6 - 2.8) = 0.8\n",
    "\n",
    "For each value y, find y - the mean of y. (8 - 10) = -2, (9 - 10) = -1, (13 - 10) = 3\n",
    "\n",
    "Multiply the first value x (-0.5) with the first y value (-2), the second x value with the second y value, and so on.\n",
    "\n",
    "(-0.5 * -2) = 1, (-0.3 * -1) = 0.3, (0.8 * 3) = 2.4\n",
    "\n",
    "Sum the output of the values from Step 4 and divide by n-1. (1 + 0.3 + 2.4) / (3-1) = (3.7 / 2) = 1.85"
   ]
  },
  {
   "cell_type": "code",
   "execution_count": 2,
   "metadata": {},
   "outputs": [],
   "source": [
    "import numpy as np"
   ]
  },
  {
   "cell_type": "code",
   "execution_count": 24,
   "metadata": {},
   "outputs": [],
   "source": [
    "x = [1.2, 1.8, 3]"
   ]
  },
  {
   "cell_type": "code",
   "execution_count": 25,
   "metadata": {},
   "outputs": [],
   "source": [
    "y = [4, 5, 9]"
   ]
  },
  {
   "cell_type": "code",
   "execution_count": 26,
   "metadata": {},
   "outputs": [
    {
     "data": {
      "text/plain": [
       "(array([[ 1.        ,  0.98974332],\n",
       "        [ 0.98974332,  1.        ]]), array([[ 0.84,  2.4 ],\n",
       "        [ 2.4 ,  7.  ]]))"
      ]
     },
     "execution_count": 26,
     "metadata": {},
     "output_type": "execute_result"
    }
   ],
   "source": [
    "np.corrcoef(x, y), np.cov(x, y)"
   ]
  },
  {
   "cell_type": "code",
   "execution_count": 27,
   "metadata": {},
   "outputs": [
    {
     "data": {
      "text/plain": [
       "array([[ 0.84,  2.4 ],\n",
       "       [ 2.4 ,  7.  ]])"
      ]
     },
     "execution_count": 27,
     "metadata": {},
     "output_type": "execute_result"
    }
   ],
   "source": [
    "np.cov(x, y)"
   ]
  },
  {
   "cell_type": "code",
   "execution_count": 23,
   "metadata": {},
   "outputs": [
    {
     "data": {
      "text/plain": [
       "2.4"
      ]
     },
     "execution_count": 23,
     "metadata": {},
     "output_type": "execute_result"
    }
   ],
   "source": [
    "4.8/2"
   ]
  }
 ],
 "metadata": {
  "kernelspec": {
   "display_name": "Python 3",
   "language": "python",
   "name": "python3"
  },
  "language_info": {
   "codemirror_mode": {
    "name": "ipython",
    "version": 3
   },
   "file_extension": ".py",
   "mimetype": "text/x-python",
   "name": "python",
   "nbconvert_exporter": "python",
   "pygments_lexer": "ipython3",
   "version": "3.6.3"
  }
 },
 "nbformat": 4,
 "nbformat_minor": 2
}
